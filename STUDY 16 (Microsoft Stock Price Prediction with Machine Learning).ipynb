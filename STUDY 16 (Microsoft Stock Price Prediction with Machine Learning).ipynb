{
 "cells": [
  {
   "cell_type": "markdown",
   "id": "74e1ef37",
   "metadata": {},
   "source": [
    "# Microsoft Stock Price Prediction with Machine Learning"
   ]
  },
  {
   "cell_type": "code",
   "execution_count": 1,
   "id": "f43ef08a",
   "metadata": {},
   "outputs": [],
   "source": [
    "import pandas as pd"
   ]
  },
  {
   "cell_type": "code",
   "execution_count": 2,
   "id": "14b33c90",
   "metadata": {},
   "outputs": [
    {
     "data": {
      "text/html": [
       "<div>\n",
       "<style scoped>\n",
       "    .dataframe tbody tr th:only-of-type {\n",
       "        vertical-align: middle;\n",
       "    }\n",
       "\n",
       "    .dataframe tbody tr th {\n",
       "        vertical-align: top;\n",
       "    }\n",
       "\n",
       "    .dataframe thead th {\n",
       "        text-align: right;\n",
       "    }\n",
       "</style>\n",
       "<table border=\"1\" class=\"dataframe\">\n",
       "  <thead>\n",
       "    <tr style=\"text-align: right;\">\n",
       "      <th></th>\n",
       "      <th>Date</th>\n",
       "      <th>Open</th>\n",
       "      <th>High</th>\n",
       "      <th>Low</th>\n",
       "      <th>Close</th>\n",
       "      <th>Adj Close</th>\n",
       "      <th>Volume</th>\n",
       "    </tr>\n",
       "  </thead>\n",
       "  <tbody>\n",
       "    <tr>\n",
       "      <th>0</th>\n",
       "      <td>2020-01-02</td>\n",
       "      <td>158.779999</td>\n",
       "      <td>160.729996</td>\n",
       "      <td>158.330002</td>\n",
       "      <td>160.619995</td>\n",
       "      <td>154.779510</td>\n",
       "      <td>22622100</td>\n",
       "    </tr>\n",
       "    <tr>\n",
       "      <th>1</th>\n",
       "      <td>2020-01-03</td>\n",
       "      <td>158.320007</td>\n",
       "      <td>159.949997</td>\n",
       "      <td>158.059998</td>\n",
       "      <td>158.619995</td>\n",
       "      <td>152.852234</td>\n",
       "      <td>21116200</td>\n",
       "    </tr>\n",
       "    <tr>\n",
       "      <th>2</th>\n",
       "      <td>2020-01-06</td>\n",
       "      <td>157.080002</td>\n",
       "      <td>159.100006</td>\n",
       "      <td>156.509995</td>\n",
       "      <td>159.029999</td>\n",
       "      <td>153.247360</td>\n",
       "      <td>20813700</td>\n",
       "    </tr>\n",
       "    <tr>\n",
       "      <th>3</th>\n",
       "      <td>2020-01-07</td>\n",
       "      <td>159.320007</td>\n",
       "      <td>159.669998</td>\n",
       "      <td>157.320007</td>\n",
       "      <td>157.580002</td>\n",
       "      <td>151.850067</td>\n",
       "      <td>21634100</td>\n",
       "    </tr>\n",
       "    <tr>\n",
       "      <th>4</th>\n",
       "      <td>2020-01-08</td>\n",
       "      <td>158.929993</td>\n",
       "      <td>160.800003</td>\n",
       "      <td>157.949997</td>\n",
       "      <td>160.089996</td>\n",
       "      <td>154.268814</td>\n",
       "      <td>27746500</td>\n",
       "    </tr>\n",
       "  </tbody>\n",
       "</table>\n",
       "</div>"
      ],
      "text/plain": [
       "         Date        Open        High         Low       Close   Adj Close  \\\n",
       "0  2020-01-02  158.779999  160.729996  158.330002  160.619995  154.779510   \n",
       "1  2020-01-03  158.320007  159.949997  158.059998  158.619995  152.852234   \n",
       "2  2020-01-06  157.080002  159.100006  156.509995  159.029999  153.247360   \n",
       "3  2020-01-07  159.320007  159.669998  157.320007  157.580002  151.850067   \n",
       "4  2020-01-08  158.929993  160.800003  157.949997  160.089996  154.268814   \n",
       "\n",
       "     Volume  \n",
       "0  22622100  \n",
       "1  21116200  \n",
       "2  20813700  \n",
       "3  21634100  \n",
       "4  27746500  "
      ]
     },
     "execution_count": 2,
     "metadata": {},
     "output_type": "execute_result"
    }
   ],
   "source": [
    "df = pd.read_csv(r\"C:\\Users\\user\\Downloads\\MSFT.csv\")\n",
    "df.head()"
   ]
  },
  {
   "cell_type": "code",
   "execution_count": 3,
   "id": "ecc23517",
   "metadata": {},
   "outputs": [
    {
     "data": {
      "text/html": [
       "<div>\n",
       "<style scoped>\n",
       "    .dataframe tbody tr th:only-of-type {\n",
       "        vertical-align: middle;\n",
       "    }\n",
       "\n",
       "    .dataframe tbody tr th {\n",
       "        vertical-align: top;\n",
       "    }\n",
       "\n",
       "    .dataframe thead th {\n",
       "        text-align: right;\n",
       "    }\n",
       "</style>\n",
       "<table border=\"1\" class=\"dataframe\">\n",
       "  <thead>\n",
       "    <tr style=\"text-align: right;\">\n",
       "      <th></th>\n",
       "      <th>Date</th>\n",
       "      <th>Open</th>\n",
       "      <th>High</th>\n",
       "      <th>Low</th>\n",
       "      <th>Close</th>\n",
       "      <th>Adj Close</th>\n",
       "      <th>Volume</th>\n",
       "    </tr>\n",
       "  </thead>\n",
       "  <tbody>\n",
       "    <tr>\n",
       "      <th>1011</th>\n",
       "      <td>2024-01-09</td>\n",
       "      <td>372.010010</td>\n",
       "      <td>375.989990</td>\n",
       "      <td>371.190002</td>\n",
       "      <td>375.790009</td>\n",
       "      <td>375.790009</td>\n",
       "      <td>20830000</td>\n",
       "    </tr>\n",
       "    <tr>\n",
       "      <th>1012</th>\n",
       "      <td>2024-01-10</td>\n",
       "      <td>376.369995</td>\n",
       "      <td>384.170013</td>\n",
       "      <td>376.320007</td>\n",
       "      <td>382.769989</td>\n",
       "      <td>382.769989</td>\n",
       "      <td>25514200</td>\n",
       "    </tr>\n",
       "    <tr>\n",
       "      <th>1013</th>\n",
       "      <td>2024-01-11</td>\n",
       "      <td>386.000000</td>\n",
       "      <td>390.679993</td>\n",
       "      <td>380.380005</td>\n",
       "      <td>384.630005</td>\n",
       "      <td>384.630005</td>\n",
       "      <td>27850800</td>\n",
       "    </tr>\n",
       "    <tr>\n",
       "      <th>1014</th>\n",
       "      <td>2024-01-12</td>\n",
       "      <td>385.489990</td>\n",
       "      <td>388.679993</td>\n",
       "      <td>384.649994</td>\n",
       "      <td>388.470001</td>\n",
       "      <td>388.470001</td>\n",
       "      <td>21645700</td>\n",
       "    </tr>\n",
       "    <tr>\n",
       "      <th>1015</th>\n",
       "      <td>2024-01-16</td>\n",
       "      <td>393.660004</td>\n",
       "      <td>394.029999</td>\n",
       "      <td>387.619995</td>\n",
       "      <td>390.269989</td>\n",
       "      <td>390.269989</td>\n",
       "      <td>27165100</td>\n",
       "    </tr>\n",
       "  </tbody>\n",
       "</table>\n",
       "</div>"
      ],
      "text/plain": [
       "            Date        Open        High         Low       Close   Adj Close  \\\n",
       "1011  2024-01-09  372.010010  375.989990  371.190002  375.790009  375.790009   \n",
       "1012  2024-01-10  376.369995  384.170013  376.320007  382.769989  382.769989   \n",
       "1013  2024-01-11  386.000000  390.679993  380.380005  384.630005  384.630005   \n",
       "1014  2024-01-12  385.489990  388.679993  384.649994  388.470001  388.470001   \n",
       "1015  2024-01-16  393.660004  394.029999  387.619995  390.269989  390.269989   \n",
       "\n",
       "        Volume  \n",
       "1011  20830000  \n",
       "1012  25514200  \n",
       "1013  27850800  \n",
       "1014  21645700  \n",
       "1015  27165100  "
      ]
     },
     "execution_count": 3,
     "metadata": {},
     "output_type": "execute_result"
    }
   ],
   "source": [
    "df.tail()"
   ]
  },
  {
   "cell_type": "code",
   "execution_count": 4,
   "id": "c26489f4",
   "metadata": {},
   "outputs": [
    {
     "data": {
      "text/html": [
       "<div>\n",
       "<style scoped>\n",
       "    .dataframe tbody tr th:only-of-type {\n",
       "        vertical-align: middle;\n",
       "    }\n",
       "\n",
       "    .dataframe tbody tr th {\n",
       "        vertical-align: top;\n",
       "    }\n",
       "\n",
       "    .dataframe thead th {\n",
       "        text-align: right;\n",
       "    }\n",
       "</style>\n",
       "<table border=\"1\" class=\"dataframe\">\n",
       "  <thead>\n",
       "    <tr style=\"text-align: right;\">\n",
       "      <th></th>\n",
       "      <th>Open</th>\n",
       "      <th>High</th>\n",
       "      <th>Low</th>\n",
       "      <th>Close</th>\n",
       "      <th>Adj Close</th>\n",
       "      <th>Volume</th>\n",
       "    </tr>\n",
       "  </thead>\n",
       "  <tbody>\n",
       "    <tr>\n",
       "      <th>count</th>\n",
       "      <td>1016.000000</td>\n",
       "      <td>1016.000000</td>\n",
       "      <td>1016.000000</td>\n",
       "      <td>1016.000000</td>\n",
       "      <td>1016.000000</td>\n",
       "      <td>1.016000e+03</td>\n",
       "    </tr>\n",
       "    <tr>\n",
       "      <th>mean</th>\n",
       "      <td>263.790059</td>\n",
       "      <td>266.639252</td>\n",
       "      <td>260.926112</td>\n",
       "      <td>263.909843</td>\n",
       "      <td>259.729834</td>\n",
       "      <td>3.058510e+07</td>\n",
       "    </tr>\n",
       "    <tr>\n",
       "      <th>std</th>\n",
       "      <td>55.539491</td>\n",
       "      <td>55.635278</td>\n",
       "      <td>55.310395</td>\n",
       "      <td>55.523994</td>\n",
       "      <td>56.712822</td>\n",
       "      <td>1.295475e+07</td>\n",
       "    </tr>\n",
       "    <tr>\n",
       "      <th>min</th>\n",
       "      <td>137.009995</td>\n",
       "      <td>140.570007</td>\n",
       "      <td>132.520004</td>\n",
       "      <td>135.419998</td>\n",
       "      <td>130.852310</td>\n",
       "      <td>9.200800e+06</td>\n",
       "    </tr>\n",
       "    <tr>\n",
       "      <th>25%</th>\n",
       "      <td>222.462498</td>\n",
       "      <td>224.997505</td>\n",
       "      <td>219.342506</td>\n",
       "      <td>222.392498</td>\n",
       "      <td>216.853862</td>\n",
       "      <td>2.248418e+07</td>\n",
       "    </tr>\n",
       "    <tr>\n",
       "      <th>50%</th>\n",
       "      <td>259.690002</td>\n",
       "      <td>262.134995</td>\n",
       "      <td>256.804993</td>\n",
       "      <td>260.075013</td>\n",
       "      <td>255.616951</td>\n",
       "      <td>2.719580e+07</td>\n",
       "    </tr>\n",
       "    <tr>\n",
       "      <th>75%</th>\n",
       "      <td>305.832504</td>\n",
       "      <td>308.977494</td>\n",
       "      <td>302.692504</td>\n",
       "      <td>305.267502</td>\n",
       "      <td>301.240043</td>\n",
       "      <td>3.456135e+07</td>\n",
       "    </tr>\n",
       "    <tr>\n",
       "      <th>max</th>\n",
       "      <td>393.660004</td>\n",
       "      <td>394.029999</td>\n",
       "      <td>387.619995</td>\n",
       "      <td>390.269989</td>\n",
       "      <td>390.269989</td>\n",
       "      <td>9.701270e+07</td>\n",
       "    </tr>\n",
       "  </tbody>\n",
       "</table>\n",
       "</div>"
      ],
      "text/plain": [
       "              Open         High          Low        Close    Adj Close  \\\n",
       "count  1016.000000  1016.000000  1016.000000  1016.000000  1016.000000   \n",
       "mean    263.790059   266.639252   260.926112   263.909843   259.729834   \n",
       "std      55.539491    55.635278    55.310395    55.523994    56.712822   \n",
       "min     137.009995   140.570007   132.520004   135.419998   130.852310   \n",
       "25%     222.462498   224.997505   219.342506   222.392498   216.853862   \n",
       "50%     259.690002   262.134995   256.804993   260.075013   255.616951   \n",
       "75%     305.832504   308.977494   302.692504   305.267502   301.240043   \n",
       "max     393.660004   394.029999   387.619995   390.269989   390.269989   \n",
       "\n",
       "             Volume  \n",
       "count  1.016000e+03  \n",
       "mean   3.058510e+07  \n",
       "std    1.295475e+07  \n",
       "min    9.200800e+06  \n",
       "25%    2.248418e+07  \n",
       "50%    2.719580e+07  \n",
       "75%    3.456135e+07  \n",
       "max    9.701270e+07  "
      ]
     },
     "execution_count": 4,
     "metadata": {},
     "output_type": "execute_result"
    }
   ],
   "source": [
    "df.describe()"
   ]
  },
  {
   "cell_type": "code",
   "execution_count": 5,
   "id": "b40cbaec",
   "metadata": {},
   "outputs": [
    {
     "data": {
      "text/plain": [
       "(1016, 7)"
      ]
     },
     "execution_count": 5,
     "metadata": {},
     "output_type": "execute_result"
    }
   ],
   "source": [
    "df.shape"
   ]
  },
  {
   "cell_type": "code",
   "execution_count": 6,
   "id": "21ea3ab3",
   "metadata": {},
   "outputs": [
    {
     "data": {
      "text/plain": [
       "Date         0\n",
       "Open         0\n",
       "High         0\n",
       "Low          0\n",
       "Close        0\n",
       "Adj Close    0\n",
       "Volume       0\n",
       "dtype: int64"
      ]
     },
     "execution_count": 6,
     "metadata": {},
     "output_type": "execute_result"
    }
   ],
   "source": [
    "df.isnull().sum()"
   ]
  },
  {
   "cell_type": "code",
   "execution_count": 7,
   "id": "aa56e2be",
   "metadata": {},
   "outputs": [
    {
     "data": {
      "text/plain": [
       "Date          object\n",
       "Open         float64\n",
       "High         float64\n",
       "Low          float64\n",
       "Close        float64\n",
       "Adj Close    float64\n",
       "Volume         int64\n",
       "dtype: object"
      ]
     },
     "execution_count": 7,
     "metadata": {},
     "output_type": "execute_result"
    }
   ],
   "source": [
    "df.dtypes"
   ]
  },
  {
   "cell_type": "markdown",
   "id": "e69cbbf8",
   "metadata": {},
   "source": [
    "Define X and Y"
   ]
  },
  {
   "cell_type": "code",
   "execution_count": 8,
   "id": "a11a7b5b",
   "metadata": {},
   "outputs": [],
   "source": [
    "X = df[[\"Open\",\"High\",\"Low\",\"Close\",\"Adj Close\"]]\n",
    "Y = df[\"Volume\"]"
   ]
  },
  {
   "cell_type": "markdown",
   "id": "42acbf10",
   "metadata": {},
   "source": [
    "Train, Test, Split"
   ]
  },
  {
   "cell_type": "code",
   "execution_count": 10,
   "id": "c0d5f3c0",
   "metadata": {},
   "outputs": [
    {
     "name": "stderr",
     "output_type": "stream",
     "text": [
      "C:\\Users\\user\\anaconda3\\lib\\site-packages\\scipy\\__init__.py:155: UserWarning: A NumPy version >=1.18.5 and <1.25.0 is required for this version of SciPy (detected version 1.26.4\n",
      "  warnings.warn(f\"A NumPy version >={np_minversion} and <{np_maxversion}\"\n"
     ]
    }
   ],
   "source": [
    "from sklearn.model_selection import train_test_split\n",
    "\n",
    "x_train,x_test,y_train,y_test = train_test_split(X,Y,test_size=.25,random_state=100)"
   ]
  },
  {
   "cell_type": "markdown",
   "id": "8235df76",
   "metadata": {},
   "source": [
    "Model Building"
   ]
  },
  {
   "cell_type": "code",
   "execution_count": 13,
   "id": "284d85e7",
   "metadata": {},
   "outputs": [],
   "source": [
    "from sklearn import linear_model\n",
    "from sklearn.linear_model import LinearRegression\n",
    "\n",
    "linear_model = linear_model.LinearRegression()"
   ]
  },
  {
   "cell_type": "markdown",
   "id": "c7afa635",
   "metadata": {},
   "source": [
    "Fitting the Multiple Linear Regression model"
   ]
  },
  {
   "cell_type": "code",
   "execution_count": 14,
   "id": "dd1ac8bb",
   "metadata": {},
   "outputs": [],
   "source": [
    "reg_model = LinearRegression().fit(x_train, y_train)"
   ]
  },
  {
   "cell_type": "markdown",
   "id": "53addc23",
   "metadata": {},
   "source": [
    "Predicting the Test and Train set result "
   ]
  },
  {
   "cell_type": "code",
   "execution_count": 15,
   "id": "c1a688d6",
   "metadata": {},
   "outputs": [],
   "source": [
    "y_pred= reg_model.predict(x_test)  \n",
    "x_pred= reg_model.predict(x_train) "
   ]
  },
  {
   "cell_type": "markdown",
   "id": "1bb32260",
   "metadata": {},
   "source": [
    "Printing the model coefficients"
   ]
  },
  {
   "cell_type": "code",
   "execution_count": 16,
   "id": "d6b59e90",
   "metadata": {},
   "outputs": [
    {
     "name": "stdout",
     "output_type": "stream",
     "text": [
      "Intercept:  38836904.84703391\n"
     ]
    }
   ],
   "source": [
    "print('Intercept: ',reg_model.intercept_)\n"
   ]
  },
  {
   "cell_type": "markdown",
   "id": "98b36c31",
   "metadata": {},
   "source": [
    "pair the feature names with the coefficients"
   ]
  },
  {
   "cell_type": "code",
   "execution_count": 18,
   "id": "96ac30ff",
   "metadata": {},
   "outputs": [
    {
     "data": {
      "text/plain": [
       "[('Open', -178846.30245207154),\n",
       " ('High', 3080179.1209013714),\n",
       " ('Low', -2653129.2714673206),\n",
       " ('Close', -142924.20928371535),\n",
       " ('Adj Close', -202028.5630801695)]"
      ]
     },
     "execution_count": 18,
     "metadata": {},
     "output_type": "execute_result"
    }
   ],
   "source": [
    "list(zip(X, reg_model.coef_))"
   ]
  },
  {
   "cell_type": "code",
   "execution_count": 19,
   "id": "567b019b",
   "metadata": {},
   "outputs": [
    {
     "name": "stdout",
     "output_type": "stream",
     "text": [
      "38836904.84703391\n",
      "[ -178846.30245207  3080179.12090137 -2653129.27146732  -142924.20928372\n",
      "  -202028.56308017]\n"
     ]
    }
   ],
   "source": [
    "print(reg_model.intercept_)\n",
    "print(reg_model.coef_)"
   ]
  },
  {
   "cell_type": "code",
   "execution_count": 20,
   "id": "89666a57",
   "metadata": {},
   "outputs": [],
   "source": [
    "#Predicting the Test and Train set result \n",
    "y_pred= reg_model.predict(x_test)  \n",
    "x_pred= reg_model.predict(x_train) \n"
   ]
  },
  {
   "cell_type": "code",
   "execution_count": 21,
   "id": "85377075",
   "metadata": {},
   "outputs": [
    {
     "name": "stdout",
     "output_type": "stream",
     "text": [
      "Prediction for test set: [24777695.12556184 70873447.87434742 27551418.33462398 35601639.08133764\n",
      " 29199815.56903259 19425548.41953089 33233844.49203381 35723322.49432555\n",
      " 21933628.11770915 31007030.60474297 36713079.85762703 31100402.59704632\n",
      " 75206483.02172166 43641547.52061415 31533525.38811143 29123555.62284625\n",
      " 41528709.9017782  26311177.2656334  19106956.52685715 41593734.33305804\n",
      " 33556110.50299299 32830022.39607923 26690354.64884817 37473232.92638781\n",
      " 18210366.32596356 30767811.42060006 26820255.71703977 28827242.16945081\n",
      " 36083223.06499071 19046626.57103743 23483066.77783847 45243917.80332682\n",
      " 34560066.31237327 49494631.64786696 49179001.23509064 17273227.85273403\n",
      " 33828967.84764569 18138594.71797074 32710034.37972797 20258124.41423795\n",
      " 24982675.21579159 34506692.54159816 28262422.18596771 29443426.51661958\n",
      " 22317677.72444609 38690638.90297725 18430350.5086339  29380704.0353758\n",
      " 28907125.36286891 43392161.49038967 24816220.23713367 31859316.70594334\n",
      " 37861632.90256424 18455791.1627062  26654750.4614942  39127594.93041755\n",
      " 42074535.55752353 39630405.58105415 28167992.01048787 31292919.15987823\n",
      " 25476151.79977264 29338641.4896571  31906912.51205304 53190360.52654855\n",
      " 21561002.87405096 32952482.28080247 44322809.54927717 47140594.84264159\n",
      " 55895367.92976117 28147004.17189546 38018832.05823493 18379706.47591413\n",
      " 24802514.13251502 22556380.57877684 35469243.39368202 21414995.54692977\n",
      " 20442777.17328626 52840056.54753688 28243018.16027752 42675904.06528062\n",
      " 19689599.03092176 29271802.28694831 33305882.83950304 28133581.1459211\n",
      " 42896676.25102225 16323237.25315364 47324120.59619386 33718802.13988002\n",
      " 20042909.72613776 27811058.46974849 39480415.3188986  32354293.76557638\n",
      " 21107479.11166235 22420522.29602816 18902186.63648646 36297457.97581628\n",
      " 60391446.91031972 26836958.5518408  27773716.55513917 24368030.76009282\n",
      " 21178583.31261273 17074373.08353359 12114588.79798594 36593033.40916685\n",
      " 22381763.42373472 32258482.98195335 36854028.82644102 22377496.42987188\n",
      " 38255479.6683001  29964428.05917411 32278010.92366143 22914376.05056852\n",
      " 23958834.70233541 24668856.73673089 27684136.0223413  29170346.16308821\n",
      " 28151708.94109417 28785128.44092688 18607602.37324291 60660879.22642341\n",
      " 30906470.7028643  36230780.75773235 26794898.70629434 29384753.57910296\n",
      " 23986058.04482996 32723784.71739867 21543815.78172032 23292739.85860685\n",
      " 27940324.32688338 17258332.00513217 20029289.41099744 25675147.2252931\n",
      " 35386176.83083641 21106325.42222041 30928152.20257375 38120691.81559047\n",
      " 31056508.87455308 20240830.55801787 36775667.68108741 41284148.65216346\n",
      " 21906971.91223675 29236995.97731246 26176041.65447543 26356536.52241191\n",
      " 31770097.39671213 22202957.46659587 23401198.9395273  37527858.35381195\n",
      " 32678808.46105433 34976705.25372298 19772915.12640219 29090236.65804183\n",
      " 36491790.30962887 45359010.00848507 23129869.18847352 27242843.97769105\n",
      " 15079342.73131804 17304420.27506829 39555244.09755155 26343934.10621295\n",
      " 38300428.62345613 31725275.30944201 33450928.39580345 43931698.11814374\n",
      " 37231722.78670903 40611985.33053296 20881610.54155884 45672246.06452382\n",
      " 26917360.34160742 22280365.02594417 29022369.56094149 25227264.5505615\n",
      " 29050209.50531879 30270533.1963784  44458804.39950588 27779816.68647272\n",
      " 32239341.29291745 28126431.93270577 35128092.76296255 49215150.14320452\n",
      " 40445670.60536011 21987859.98695477 21886334.75879025 24494494.75573942\n",
      " 15672165.36094847 30692124.47646078 33322796.62614401 34489892.19004574\n",
      " 27790177.77438533 20627988.2591553  34168893.83719531 19570238.59256002\n",
      " 25774162.35800556 39497291.40414812 20523058.69699355 24704737.75136047\n",
      " 19078443.52786496 31303413.32730345 24425890.19113367 36057425.75804479\n",
      " 42690800.22885174 33267026.78215559 29178063.04794887 42287017.14039687\n",
      " 16997692.16643375 28030555.31027495 26044340.69363982 26693122.2250483\n",
      " 20856020.15098985 31683026.39485073 31977090.19628368 20541617.47418295\n",
      " 28318856.08558501 38870612.67921155 26504984.67108698 37052192.54682869\n",
      " 29658197.27927976 25579396.62156298 19410801.72610623 30199620.47334087\n",
      " 38192341.89389075 45818568.8627206  40501843.6509289  22450984.69817164\n",
      " 27066328.14659684 26411954.37001486 24372336.15442821 50926252.94987837\n",
      " 20613291.86914536 39868231.73386378 31154459.05639847 33548448.24457012\n",
      " 27227178.2078572  20902836.26234422 23699100.62493605 29852974.41449514\n",
      " 39353730.47189323 48955536.87531568 31052082.58575898 35309693.49506079\n",
      " 28168758.93784264 34893391.2892498  14838162.55527047 24030695.3664142\n",
      " 16473781.60227002 20504739.72146177 65113625.72476182 29765020.18698759\n",
      " 25375326.96812769 37083959.31520993 24961385.43190529 37366725.59305733\n",
      " 18651523.39914151 15748899.19840029]\n"
     ]
    }
   ],
   "source": [
    "print(\"Prediction for test set: {}\".format(y_pred))"
   ]
  },
  {
   "cell_type": "markdown",
   "id": "c611150e",
   "metadata": {},
   "source": [
    "Actual value and the predicted value"
   ]
  },
  {
   "cell_type": "code",
   "execution_count": 22,
   "id": "ac8a877d",
   "metadata": {},
   "outputs": [
    {
     "data": {
      "text/html": [
       "<div>\n",
       "<style scoped>\n",
       "    .dataframe tbody tr th:only-of-type {\n",
       "        vertical-align: middle;\n",
       "    }\n",
       "\n",
       "    .dataframe tbody tr th {\n",
       "        vertical-align: top;\n",
       "    }\n",
       "\n",
       "    .dataframe thead th {\n",
       "        text-align: right;\n",
       "    }\n",
       "</style>\n",
       "<table border=\"1\" class=\"dataframe\">\n",
       "  <thead>\n",
       "    <tr style=\"text-align: right;\">\n",
       "      <th></th>\n",
       "      <th>Actual value</th>\n",
       "      <th>Predicted value</th>\n",
       "    </tr>\n",
       "  </thead>\n",
       "  <tbody>\n",
       "    <tr>\n",
       "      <th>793</th>\n",
       "      <td>21190000</td>\n",
       "      <td>2.477770e+07</td>\n",
       "    </tr>\n",
       "    <tr>\n",
       "      <th>48</th>\n",
       "      <td>93226400</td>\n",
       "      <td>7.087345e+07</td>\n",
       "    </tr>\n",
       "    <tr>\n",
       "      <th>359</th>\n",
       "      <td>23079200</td>\n",
       "      <td>2.755142e+07</td>\n",
       "    </tr>\n",
       "    <tr>\n",
       "      <th>532</th>\n",
       "      <td>45386200</td>\n",
       "      <td>3.560164e+07</td>\n",
       "    </tr>\n",
       "    <tr>\n",
       "      <th>149</th>\n",
       "      <td>28806400</td>\n",
       "      <td>2.919982e+07</td>\n",
       "    </tr>\n",
       "    <tr>\n",
       "      <th>...</th>\n",
       "      <td>...</td>\n",
       "      <td>...</td>\n",
       "    </tr>\n",
       "    <tr>\n",
       "      <th>546</th>\n",
       "      <td>27314500</td>\n",
       "      <td>3.708396e+07</td>\n",
       "    </tr>\n",
       "    <tr>\n",
       "      <th>308</th>\n",
       "      <td>25620100</td>\n",
       "      <td>2.496139e+07</td>\n",
       "    </tr>\n",
       "    <tr>\n",
       "      <th>483</th>\n",
       "      <td>33337600</td>\n",
       "      <td>3.736673e+07</td>\n",
       "    </tr>\n",
       "    <tr>\n",
       "      <th>933</th>\n",
       "      <td>16834200</td>\n",
       "      <td>1.865152e+07</td>\n",
       "    </tr>\n",
       "    <tr>\n",
       "      <th>862</th>\n",
       "      <td>20396200</td>\n",
       "      <td>1.574890e+07</td>\n",
       "    </tr>\n",
       "  </tbody>\n",
       "</table>\n",
       "<p>254 rows × 2 columns</p>\n",
       "</div>"
      ],
      "text/plain": [
       "     Actual value  Predicted value\n",
       "793      21190000     2.477770e+07\n",
       "48       93226400     7.087345e+07\n",
       "359      23079200     2.755142e+07\n",
       "532      45386200     3.560164e+07\n",
       "149      28806400     2.919982e+07\n",
       "..            ...              ...\n",
       "546      27314500     3.708396e+07\n",
       "308      25620100     2.496139e+07\n",
       "483      33337600     3.736673e+07\n",
       "933      16834200     1.865152e+07\n",
       "862      20396200     1.574890e+07\n",
       "\n",
       "[254 rows x 2 columns]"
      ]
     },
     "execution_count": 22,
     "metadata": {},
     "output_type": "execute_result"
    }
   ],
   "source": [
    "reg_model_diff = pd.DataFrame({'Actual value': y_test, 'Predicted value': y_pred})\n",
    "reg_model_diff"
   ]
  },
  {
   "cell_type": "code",
   "execution_count": 26,
   "id": "412398fb",
   "metadata": {},
   "outputs": [
    {
     "name": "stdout",
     "output_type": "stream",
     "text": [
      "Mean Absolute Error: 6390768.440737623\n",
      "Mean Square Error: 87059183989946.17\n",
      "Root Mean Square Error: 9330551.108586576\n"
     ]
    }
   ],
   "source": [
    "import numpy as np\n",
    "from sklearn import metrics\n",
    "from sklearn.metrics import mean_squared_error, mean_absolute_error\n",
    "\n",
    "\n",
    "\n",
    "mae = metrics.mean_absolute_error(y_test, y_pred)\n",
    "mse = metrics.mean_squared_error(y_test, y_pred)\n",
    "r2 = np.sqrt(metrics.mean_squared_error(y_test, y_pred))\n",
    "\n",
    "print('Mean Absolute Error:', mae)\n",
    "print('Mean Square Error:', mse)\n",
    "print('Root Mean Square Error:', r2)"
   ]
  },
  {
   "cell_type": "code",
   "execution_count": null,
   "id": "84dc3d04",
   "metadata": {},
   "outputs": [],
   "source": []
  }
 ],
 "metadata": {
  "kernelspec": {
   "display_name": "Python 3 (ipykernel)",
   "language": "python",
   "name": "python3"
  },
  "language_info": {
   "codemirror_mode": {
    "name": "ipython",
    "version": 3
   },
   "file_extension": ".py",
   "mimetype": "text/x-python",
   "name": "python",
   "nbconvert_exporter": "python",
   "pygments_lexer": "ipython3",
   "version": "3.9.13"
  }
 },
 "nbformat": 4,
 "nbformat_minor": 5
}
